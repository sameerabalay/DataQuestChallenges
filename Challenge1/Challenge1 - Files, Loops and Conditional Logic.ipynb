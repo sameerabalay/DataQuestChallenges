{
 "cells": [
  {
   "cell_type": "code",
   "execution_count": 14,
   "metadata": {
    "collapsed": false
   },
   "outputs": [
    {
     "name": "stdout",
     "output_type": "stream",
     "text": [
      "Final list with no headings list size : 920\n",
      "Thousand or greater list size : 291\n"
     ]
    }
   ],
   "source": [
    "# Challenge 1: Files, Loops and Conditional Logic\n",
    "# For this challenge, you'll be working with the data set behind this FiveThirtyEight article \n",
    "# on common unisex (gender-neutral) names in the United States. \n",
    "# You'll start by reading in the file and iteratively converting the data to more useful representations. \n",
    "# At the end of this challenge, you'll filter the data so that it only includes the names \n",
    "# that at least 1,000 people share.\n",
    "#\n",
    "# The staff at FiveThirtyEight compiled this data set from information at the Social Security Adminstration's website.\n",
    "# You'll work with a shortened version of the full data set to complete this challenge.\n",
    "\n",
    "# Dataset is available at https://github.com/fivethirtyeight/data/blob/master/unisex-names/unisex_names_table.csv \n",
    "# but is downloaded into the local directory\n",
    "\n",
    "# This version of the files has all the fields since the file is downloaded from github\n",
    "\n",
    "# Open the file\n",
    "file_unisex_names_table_csv = open(\"dq_unisex_names.csv\", \"r\")\n",
    "\n",
    "# Read the File\n",
    "file_data = file_unisex_names_table_csv.read()\n",
    "\n",
    "# Split the data \n",
    "rows_in_file = file_data.split(\"\\n\")\n",
    "\n",
    "#Print the first 5 rows\n",
    "#print(rows_in_file[0:5])\n",
    "\n",
    "'''\n",
    " [',\"name\",\"total\",\"male_share\",\"female_share\",\"gap\"', \n",
    "'1,\"Casey\",176544.328149,0.584286566204162,0.415713433795838,0.168573132408324', \n",
    "'2,\"Riley\",154860.665173,0.507639071226889,0.492360928773111,0.0152781424537786', \n",
    "'3,\"Jessie\",136381.830656,0.47783426831522,0.52216573168478,0.04433146336956', \n",
    "'4,\"Jackie\",132928.78874,0.421132601798505,0.578867398201495,0.15773479640299']\n",
    "'''\n",
    "\n",
    "# Split the data in each row to create a list of lists\n",
    "\n",
    "final_list = []\n",
    "\n",
    "for item in rows_in_file:\n",
    "    split_list = item.split(\",\")\n",
    "    final_list.append(split_list)\n",
    "    \n",
    "#Print the last 5 rows of the final list\n",
    "#print(final_list[len(final_list)-5:len(final_list)])\n",
    "\n",
    "'''\n",
    "[\n",
    "['', '\"name\"', '\"total\"', '\"male_share\"', '\"female_share\"', '\"gap\"'], \n",
    "['1', '\"Casey\"', '176544.328149', '0.584286566204162', '0.415713433795838', '0.168573132408324'], \n",
    "['2', '\"Riley\"', '154860.665173', '0.507639071226889', '0.492360928773111', '0.0152781424537786'], \n",
    "['3', '\"Jessie\"', '136381.830656', '0.47783426831522', '0.52216573168478', '0.04433146336956'], \n",
    "['4', '\"Jackie\"', '132928.78874', '0.421132601798505', '0.578867398201495', '0.15773479640299']\n",
    "]\n",
    "'''\n",
    "\n",
    "# Create a new list which contains only the name and the total\n",
    "# Since the first row are labels remove them so the float conversions are easy\n",
    "final_list_with_no_headings = final_list[1:len(final_list)]\n",
    "print(\"Final list with no headings list size : \" + str(len(final_list)))\n",
    "\n",
    "short_list = []\n",
    "for item in final_list_with_no_headings:\n",
    "    name = item[1]\n",
    "    total = float(item[2])\n",
    "    new_list = [name,total]\n",
    "    short_list.append(new_list)\n",
    "    \n",
    "#print(short_list[0:5])\n",
    "'''\n",
    "[['name', 'total'], \n",
    "['Casey', '176544.3281'], \n",
    "['Riley', '154860.6652'], \n",
    "['Jessie', '136381.8307'], \n",
    "['Jackie', '132928.7887'],\n",
    "['Avery', 121797.4195]]\n",
    "'''\n",
    "\n",
    "# Create the final list with only the names that have occurred more than 1000\n",
    "thousand_or_greater = []\n",
    "for item in short_list:\n",
    "    if item[1] >= 1000:\n",
    "        thousand_or_greater.append(item)\n",
    "        \n",
    "#print(thousand_or_greater[0:5])\n",
    "'''\n",
    "[['Casey', 176544.3281], \n",
    "['Riley', 154860.6652], \n",
    "['Jessie', 136381.8307], \n",
    "['Jackie', 132928.7887], \n",
    "['Avery', 121797.4195]]\n",
    "'''\n",
    "print(\"Thousand or greater list size : \" + str(len(thousand_or_greater)))"
   ]
  },
  {
   "cell_type": "code",
   "execution_count": null,
   "metadata": {
    "collapsed": true
   },
   "outputs": [],
   "source": []
  },
  {
   "cell_type": "code",
   "execution_count": null,
   "metadata": {
    "collapsed": true
   },
   "outputs": [],
   "source": []
  }
 ],
 "metadata": {
  "kernelspec": {
   "display_name": "Python 3",
   "language": "python",
   "name": "python3"
  },
  "language_info": {
   "codemirror_mode": {
    "name": "ipython",
    "version": 3
   },
   "file_extension": ".py",
   "mimetype": "text/x-python",
   "name": "python",
   "nbconvert_exporter": "python",
   "pygments_lexer": "ipython3",
   "version": "3.6.0"
  }
 },
 "nbformat": 4,
 "nbformat_minor": 2
}
