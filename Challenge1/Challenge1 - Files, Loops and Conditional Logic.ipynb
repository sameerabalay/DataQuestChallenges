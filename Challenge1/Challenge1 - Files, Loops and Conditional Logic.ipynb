{
 "cells": [
  {
   "cell_type": "markdown",
   "metadata": {
    "collapsed": false
   },
   "source": [
    "# Challenge 1: Files, Loops and Conditional Logic\n",
    "For this challenge, you'll be working with the data set behind this FiveThirtyEight article on common unisex (gender-neutral) names in the United States. You'll start by reading in the file and iteratively converting the data to more useful representations. At the end of this challenge, you'll filter the data so that it only includes the names that at least 1,000 people share.\n",
    "\n",
    "The staff at FiveThirtyEight compiled this data set from information at the Social Security Adminstration's website. You'll work with a shortened version of the full data set to complete this challenge.\n",
    "\n",
    "Dataset is available at https://github.com/fivethirtyeight/data/blob/master/unisex-names/unisex_names_table.csv \n",
    "but is downloaded into the local directory\n",
    "\n",
    "This version of the files has all the fields since the file is downloaded from github\n",
    "\n",
    "\n"
   ]
  },
  {
   "cell_type": "code",
   "execution_count": 1,
   "metadata": {
    "collapsed": false
   },
   "outputs": [
    {
     "name": "stdout",
     "output_type": "stream",
     "text": [
      "[',name,total,male_share,female_share,gap', '1,Casey,176544.3281,0.584286566,0.415713434,0.168573132', '2,Riley,154860.6652,0.507639071,0.492360929,0.015278142', '3,Jessie,136381.8307,0.477834268,0.522165732,0.044331463', '4,Jackie,132928.7887,0.421132602,0.578867398,0.157734796']\n"
     ]
    }
   ],
   "source": [
    "'''\n",
    "Make sure there are no empty rows at the end of the file because the split function will throw an error. \n",
    "One way to make sure it doesn't happen is to open it in excel and save it as csv again\n",
    "'''\n",
    "# Open the file\n",
    "file_unisex_names_table_csv = open(\"dq_unisex_names.csv\", \"r\")\n",
    "\n",
    "# Read the File\n",
    "file_data = file_unisex_names_table_csv.read()\n",
    "\n",
    "# Split the data \n",
    "rows_in_file = file_data.split(\"\\n\")\n",
    "\n",
    "\n",
    "#Print the first 5 rows\n",
    "print(rows_in_file[0:5])"
   ]
  },
  {
   "cell_type": "code",
   "execution_count": 2,
   "metadata": {
    "collapsed": false
   },
   "outputs": [
    {
     "name": "stdout",
     "output_type": "stream",
     "text": [
      "[['915', 'Eaden', '102.319579', '0.572760615', '0.427239385', '0.14552123'], ['916', 'Inioluwa', '101.384201', '0.352728923', '0.647271077', '0.294542155'], ['917', 'Gwin', '101.243364', '0.562136576', '0.437863424', '0.124273152'], ['918', 'Yacine', '100.2304', '0.544598944', '0.455401056', '0.089197888'], ['919', 'Aeon', '100.21104', '0.464834563', '0.535165437', '0.070330874']]\n"
     ]
    }
   ],
   "source": [
    "# Split the data in each row to create a list of lists\n",
    "\n",
    "final_list = []\n",
    "\n",
    "for item in rows_in_file:\n",
    "    split_list = item.split(\",\")\n",
    "    final_list.append(split_list)\n",
    "    \n",
    "#Print the last 5 rows of the final list\n",
    "print(final_list[len(final_list)-5:len(final_list)])\n"
   ]
  },
  {
   "cell_type": "code",
   "execution_count": 3,
   "metadata": {
    "collapsed": false
   },
   "outputs": [
    {
     "name": "stdout",
     "output_type": "stream",
     "text": [
      "Final list with no headings list size : 920\n",
      "[['Casey', 176544.3281], ['Riley', 154860.6652], ['Jessie', 136381.8307], ['Jackie', 132928.7887], ['Avery', 121797.4195]]\n"
     ]
    }
   ],
   "source": [
    "'''\n",
    "Since the first row are labels remove them so the float conversions are easy otherwise an error is thrown \n",
    "when you convert it to float\n",
    "'''\n",
    "\n",
    "# Create a new list which contains only the name and the total\n",
    "\n",
    "final_list_with_no_headings = final_list[1:len(final_list)]\n",
    "print(\"Final list with no headings list size : \" + str(len(final_list)))\n",
    "\n",
    "short_list = []\n",
    "for item in final_list_with_no_headings:\n",
    "    name = item[1]\n",
    "    total = float(item[2])\n",
    "    new_list = [name,total]\n",
    "    short_list.append(new_list)\n",
    "    \n",
    "print(short_list[0:5])"
   ]
  },
  {
   "cell_type": "code",
   "execution_count": 5,
   "metadata": {
    "collapsed": false
   },
   "outputs": [
    {
     "name": "stdout",
     "output_type": "stream",
     "text": [
      "[['Casey', 176544.3281], ['Riley', 154860.6652], ['Jessie', 136381.8307], ['Jackie', 132928.7887], ['Avery', 121797.4195]]\n",
      "Thousand or greater list size : 291\n",
      "Total list :920\n",
      "Percentage of people whose names occur more than 1000 : 31.630434782608695\n"
     ]
    }
   ],
   "source": [
    "# Create the final list with only the names that have occurred more than 1000\n",
    "thousand_or_greater = []\n",
    "for item in short_list:\n",
    "    if item[1] >= 1000:\n",
    "        thousand_or_greater.append(item)\n",
    "        \n",
    "print(thousand_or_greater[0:5])\n",
    "\n",
    "print(\"Thousand or greater list size : \" + str(len(thousand_or_greater)))\n",
    "print(\"Total list :\" + str(len(final_list)))\n",
    "print(\"Percentage of people whose names occur more than 1000 : \" + str((len(thousand_or_greater)/(len(final_list)) * 100)))"
   ]
  },
  {
   "cell_type": "markdown",
   "metadata": {},
   "source": [
    "# Findings:\n",
    "Total List size is 920\n",
    "Thousand or greater name list is 291\n",
    "Percentage of people whose name has occured more than 1000 is 31.63%"
   ]
  },
  {
   "cell_type": "code",
   "execution_count": null,
   "metadata": {
    "collapsed": true
   },
   "outputs": [],
   "source": []
  }
 ],
 "metadata": {
  "kernelspec": {
   "display_name": "Python 3",
   "language": "python",
   "name": "python3"
  },
  "language_info": {
   "codemirror_mode": {
    "name": "ipython",
    "version": 3
   },
   "file_extension": ".py",
   "mimetype": "text/x-python",
   "name": "python",
   "nbconvert_exporter": "python",
   "pygments_lexer": "ipython3",
   "version": "3.6.0"
  }
 },
 "nbformat": 4,
 "nbformat_minor": 2
}
